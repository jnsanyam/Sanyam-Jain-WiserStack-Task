{
  "nbformat": 4,
  "nbformat_minor": 0,
  "metadata": {
    "colab": {
      "provenance": [],
      "authorship_tag": "ABX9TyMXrFCfwNitD1QRE/Ml0ans",
      "include_colab_link": true
    },
    "kernelspec": {
      "name": "python3",
      "display_name": "Python 3"
    },
    "language_info": {
      "name": "python"
    }
  },
  "cells": [
    {
      "cell_type": "markdown",
      "metadata": {
        "id": "view-in-github",
        "colab_type": "text"
      },
      "source": [
        "<a href=\"https://colab.research.google.com/github/jnsanyam/Sanyam-Jain-WiserStack-Task/blob/main/Sanyam_Jain_WiserStack_Data_Science_Task.ipynb\" target=\"_parent\"><img src=\"https://colab.research.google.com/assets/colab-badge.svg\" alt=\"Open In Colab\"/></a>"
      ]
    },
    {
      "cell_type": "code",
      "source": [
        "import tensorflow as tf\n",
        "from tensorflow.keras.models import Sequential\n",
        "from tensorflow.keras.layers import Conv2D, MaxPooling2D, Flatten, Dense, Dropout\n",
        "from tensorflow.keras.preprocessing.image import ImageDataGenerator\n",
        "from tensorflow.keras.layers import BatchNormalization\n",
        "from sklearn.metrics import accuracy_score"
      ],
      "metadata": {
        "id": "S-yECjJ5_ObM"
      },
      "execution_count": 2,
      "outputs": []
    },
    {
      "cell_type": "code",
      "source": [
        "! unzip '/content/Dataset for DS Assignment .zip'"
      ],
      "metadata": {
        "id": "xuvqqtPaQPoC"
      },
      "execution_count": null,
      "outputs": []
    },
    {
      "cell_type": "code",
      "source": [
        "# Define paths to the dataset\n",
        "train_dir = '/content/images/train'\n",
        "val_dir = '/content/images/validation'\n",
        "test_dir = '/content/images/final test'"
      ],
      "metadata": {
        "id": "gqakN1wn_WsE"
      },
      "execution_count": 6,
      "outputs": []
    },
    {
      "cell_type": "code",
      "source": [
        "# Image dimensions\n",
        "img_height, img_width = 48, 48"
      ],
      "metadata": {
        "id": "v8FZBquOQbsP"
      },
      "execution_count": 7,
      "outputs": []
    },
    {
      "cell_type": "code",
      "source": [
        "# Define number of classes (emotions)\n",
        "num_classes = 7"
      ],
      "metadata": {
        "id": "F_FhbcKjQe0j"
      },
      "execution_count": 8,
      "outputs": []
    },
    {
      "cell_type": "code",
      "source": [
        "# Data augmentation\n",
        "train_datagen = ImageDataGenerator(\n",
        "    rescale=1./255,\n",
        "    shear_range=0.2,\n",
        "    zoom_range=0.2,\n",
        "    horizontal_flip=True,\n",
        ")\n",
        "val_datagen = ImageDataGenerator(rescale=1./255)\n",
        "test_datagen = ImageDataGenerator(rescale=1./255)\n"
      ],
      "metadata": {
        "id": "um3XwDEIQiuT"
      },
      "execution_count": 9,
      "outputs": []
    },
    {
      "cell_type": "code",
      "source": [
        "# Load datasets\n",
        "train_generator = train_datagen.flow_from_directory(\n",
        "    train_dir,\n",
        "    target_size=(img_width, img_height),\n",
        "    batch_size=32,\n",
        "    class_mode='categorical',\n",
        "    color_mode='grayscale'\n",
        ")"
      ],
      "metadata": {
        "colab": {
          "base_uri": "https://localhost:8080/",
          "height": 0
        },
        "id": "N1Cj6yQ5Qkg-",
        "outputId": "2457d21c-6eb4-4367-b89b-51449b728715"
      },
      "execution_count": 10,
      "outputs": [
        {
          "output_type": "stream",
          "name": "stdout",
          "text": [
            "Found 26921 images belonging to 7 classes.\n"
          ]
        }
      ]
    },
    {
      "cell_type": "code",
      "source": [
        "validation_generator = val_datagen.flow_from_directory(\n",
        "    val_dir,\n",
        "    target_size=(img_width, img_height),\n",
        "    batch_size=32,\n",
        "    class_mode='categorical',\n",
        "    color_mode='grayscale'\n",
        ")"
      ],
      "metadata": {
        "colab": {
          "base_uri": "https://localhost:8080/",
          "height": 0
        },
        "id": "l0r1y_hGQlXb",
        "outputId": "753865c7-6374-481d-d127-c70eed2fd397"
      },
      "execution_count": 11,
      "outputs": [
        {
          "output_type": "stream",
          "name": "stdout",
          "text": [
            "Found 7066 images belonging to 7 classes.\n"
          ]
        }
      ]
    },
    {
      "cell_type": "code",
      "source": [
        "test_generator = test_datagen.flow_from_directory(\n",
        "    test_dir,\n",
        "    target_size=(img_width, img_height),\n",
        "    batch_size=32,\n",
        "    class_mode='categorical',\n",
        "    shuffle=False,  # Do not shuffle test data\n",
        "    color_mode='grayscale'\n",
        ")"
      ],
      "metadata": {
        "colab": {
          "base_uri": "https://localhost:8080/",
          "height": 0
        },
        "id": "bldQs2liQnVs",
        "outputId": "ec6d5afc-e71a-42ff-b352-cef41b77c366"
      },
      "execution_count": 12,
      "outputs": [
        {
          "output_type": "stream",
          "name": "stdout",
          "text": [
            "Found 1900 images belonging to 7 classes.\n"
          ]
        }
      ]
    },
    {
      "cell_type": "code",
      "source": [
        "# Model Architecture\n",
        "\n",
        "model = Sequential([\n",
        "\n",
        "    Conv2D(32, (3, 3), activation='relu', input_shape=(48, 48, 1)),\n",
        "\n",
        "    BatchNormalization(),\n",
        "\n",
        "    MaxPooling2D((2, 2)),\n",
        "\n",
        "    Conv2D(64, (3, 3), activation='relu'),\n",
        "\n",
        "    BatchNormalization(),\n",
        "\n",
        "    MaxPooling2D((2, 2)),\n",
        "\n",
        "    Conv2D(64, (3, 3), activation='relu'),\n",
        "\n",
        "    BatchNormalization(),\n",
        "\n",
        "    Flatten(),\n",
        "\n",
        "    Dropout(0.5),\n",
        "\n",
        "    Dense(64, activation='relu'),\n",
        "\n",
        "    Dense(7, activation='softmax')\n",
        "\n",
        "])\n"
      ],
      "metadata": {
        "id": "WnxwRWGpQpsi"
      },
      "execution_count": 17,
      "outputs": []
    },
    {
      "cell_type": "code",
      "source": [
        "# Compile the model\n",
        "model.compile(optimizer='adam', loss='categorical_crossentropy', metrics=['accuracy'])\n"
      ],
      "metadata": {
        "id": "oVDRahRfQsVA"
      },
      "execution_count": 18,
      "outputs": []
    },
    {
      "cell_type": "code",
      "source": [
        "# Train the model\n",
        "epochs = 10  # Adjust the number of epochs based on time constraints\n",
        "model.fit(\n",
        "    train_generator,\n",
        "    epochs=epochs,\n",
        "    validation_data=validation_generator\n",
        ")\n"
      ],
      "metadata": {
        "colab": {
          "base_uri": "https://localhost:8080/",
          "height": 0
        },
        "id": "87sLkOorQudg",
        "outputId": "046bf9dc-5d38-4f73-8749-e474bcc70071"
      },
      "execution_count": 19,
      "outputs": [
        {
          "output_type": "stream",
          "name": "stdout",
          "text": [
            "Epoch 1/10\n",
            "842/842 [==============================] - 124s 144ms/step - loss: 1.7695 - accuracy: 0.3361 - val_loss: 1.6072 - val_accuracy: 0.3791\n",
            "Epoch 2/10\n",
            "842/842 [==============================] - 123s 146ms/step - loss: 1.4970 - accuracy: 0.4166 - val_loss: 1.4685 - val_accuracy: 0.4308\n",
            "Epoch 3/10\n",
            "842/842 [==============================] - 122s 145ms/step - loss: 1.3983 - accuracy: 0.4575 - val_loss: 1.3414 - val_accuracy: 0.4757\n",
            "Epoch 4/10\n",
            "842/842 [==============================] - 121s 143ms/step - loss: 1.3408 - accuracy: 0.4832 - val_loss: 1.4120 - val_accuracy: 0.4708\n",
            "Epoch 5/10\n",
            "842/842 [==============================] - 122s 145ms/step - loss: 1.2959 - accuracy: 0.5025 - val_loss: 1.2716 - val_accuracy: 0.5163\n",
            "Epoch 6/10\n",
            "842/842 [==============================] - 125s 148ms/step - loss: 1.2622 - accuracy: 0.5188 - val_loss: 1.2182 - val_accuracy: 0.5359\n",
            "Epoch 7/10\n",
            "842/842 [==============================] - 120s 143ms/step - loss: 1.2354 - accuracy: 0.5297 - val_loss: 1.1941 - val_accuracy: 0.5451\n",
            "Epoch 8/10\n",
            "842/842 [==============================] - 122s 145ms/step - loss: 1.2115 - accuracy: 0.5362 - val_loss: 1.2074 - val_accuracy: 0.5437\n",
            "Epoch 9/10\n",
            "842/842 [==============================] - 123s 145ms/step - loss: 1.1880 - accuracy: 0.5459 - val_loss: 1.2827 - val_accuracy: 0.5151\n",
            "Epoch 10/10\n",
            "842/842 [==============================] - 120s 142ms/step - loss: 1.1729 - accuracy: 0.5551 - val_loss: 1.1899 - val_accuracy: 0.5504\n"
          ]
        },
        {
          "output_type": "execute_result",
          "data": {
            "text/plain": [
              "<keras.src.callbacks.History at 0x79fd69f1fa90>"
            ]
          },
          "metadata": {},
          "execution_count": 19
        }
      ]
    },
    {
      "cell_type": "code",
      "source": [
        "# Evaluate the model\n",
        "scores = model.evaluate(validation_generator)\n",
        "print('Validation Accuracy: {}'.format(scores[1]))\n"
      ],
      "metadata": {
        "colab": {
          "base_uri": "https://localhost:8080/",
          "height": 0
        },
        "id": "dLNAgDP-QwN1",
        "outputId": "553b52d3-7b10-4c88-9d7e-68f6e05a5c1c"
      },
      "execution_count": 20,
      "outputs": [
        {
          "output_type": "stream",
          "name": "stdout",
          "text": [
            "221/221 [==============================] - 9s 41ms/step - loss: 1.1899 - accuracy: 0.5504\n",
            "Validation Accuracy: 0.550382137298584\n"
          ]
        }
      ]
    },
    {
      "cell_type": "code",
      "source": [
        "# Predict emotions on the test set\n",
        "test_predictions = model.predict(test_generator)\n",
        "predicted_classes = tf.math.argmax(test_predictions, axis=1)\n",
        "true_classes = test_generator.classes"
      ],
      "metadata": {
        "colab": {
          "base_uri": "https://localhost:8080/",
          "height": 0
        },
        "id": "6GR4LMyQQyPB",
        "outputId": "5275c391-a0bd-4e5b-a8a0-6e344166b521"
      },
      "execution_count": 21,
      "outputs": [
        {
          "output_type": "stream",
          "name": "stdout",
          "text": [
            "60/60 [==============================] - 3s 54ms/step\n"
          ]
        }
      ]
    },
    {
      "cell_type": "code",
      "source": [
        "# Calculate accuracy\n",
        "accuracy = accuracy_score(true_classes, predicted_classes)\n",
        "print('Test Accuracy: {}'.format(accuracy))\n"
      ],
      "metadata": {
        "colab": {
          "base_uri": "https://localhost:8080/",
          "height": 0
        },
        "id": "h_gx99IwQ0KS",
        "outputId": "86c25bb0-9c99-49de-a9fd-28647807ff13"
      },
      "execution_count": 22,
      "outputs": [
        {
          "output_type": "stream",
          "name": "stdout",
          "text": [
            "Test Accuracy: 0.4978947368421053\n"
          ]
        }
      ]
    }
  ]
}